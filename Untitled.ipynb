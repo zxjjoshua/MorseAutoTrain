{
 "cells": [
  {
   "cell_type": "code",
   "execution_count": 1,
   "id": "a7af1ceb-ea6d-408e-b8a6-b39b6705d6fa",
   "metadata": {},
   "outputs": [],
   "source": [
    "from jax import jacrev"
   ]
  },
  {
   "cell_type": "code",
   "execution_count": 2,
   "id": "131554da-fecd-4c62-b22b-c0acdee1a149",
   "metadata": {},
   "outputs": [],
   "source": [
    "class test:\n",
    "    def __init__(self, tmp_dict):\n",
    "        self.tmp = tmp_dict\n",
    "    def y(self, x):\n",
    "        return x * x"
   ]
  },
  {
   "cell_type": "code",
   "execution_count": 3,
   "id": "605f2afd-b093-4f26-9bc1-84353a4193c4",
   "metadata": {},
   "outputs": [],
   "source": [
    "tmp_dict = {\n",
    "    \"tmp\": \"string\",\n",
    "    \"tmpint\": 1234\n",
    "}\n",
    "test_obj = test(tmp_dict)"
   ]
  },
  {
   "cell_type": "code",
   "execution_count": 5,
   "id": "615ac56b-8578-419c-8281-be85013323b7",
   "metadata": {},
   "outputs": [
    {
     "name": "stderr",
     "output_type": "stream",
     "text": [
      "WARNING:absl:No GPU/TPU found, falling back to CPU. (Set TF_CPP_MIN_LOG_LEVEL=0 and rerun for more info.)\n"
     ]
    },
    {
     "data": {
      "text/plain": [
       "DeviceArray(10., dtype=float32)"
      ]
     },
     "execution_count": 5,
     "metadata": {},
     "output_type": "execute_result"
    }
   ],
   "source": [
    "jacrev(test_obj.y)(5.)"
   ]
  },
  {
   "cell_type": "code",
   "execution_count": 9,
   "id": "6a76cdb7-9104-4afe-9955-76ecc9c1c576",
   "metadata": {},
   "outputs": [
    {
     "data": {
      "text/plain": [
       "'a'"
      ]
     },
     "execution_count": 9,
     "metadata": {},
     "output_type": "execute_result"
    }
   ],
   "source": [
    "a = {\"a\": 12, \"b\": 11}\n",
    "list(a.keys())[0]"
   ]
  },
  {
   "cell_type": "code",
   "execution_count": null,
   "id": "6996d9c0-e6e2-48e3-8543-a857c5515b56",
   "metadata": {},
   "outputs": [],
   "source": []
  }
 ],
 "metadata": {
  "kernelspec": {
   "display_name": "Python 3",
   "language": "python",
   "name": "python3"
  },
  "language_info": {
   "codemirror_mode": {
    "name": "ipython",
    "version": 3
   },
   "file_extension": ".py",
   "mimetype": "text/x-python",
   "name": "python",
   "nbconvert_exporter": "python",
   "pygments_lexer": "ipython3",
   "version": "3.8.8"
  }
 },
 "nbformat": 4,
 "nbformat_minor": 5
}
